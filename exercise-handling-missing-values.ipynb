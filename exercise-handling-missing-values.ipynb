{
 "cells": [
  {
   "cell_type": "markdown",
   "id": "5059a1b7",
   "metadata": {
    "papermill": {
     "duration": 0.021853,
     "end_time": "2022-04-15T18:49:45.773061",
     "exception": false,
     "start_time": "2022-04-15T18:49:45.751208",
     "status": "completed"
    },
    "tags": []
   },
   "source": [
    "**This notebook is an exercise in the [Data Cleaning](https://www.kaggle.com/learn/data-cleaning) course.  You can reference the tutorial at [this link](https://www.kaggle.com/alexisbcook/handling-missing-values).**\n",
    "\n",
    "---\n"
   ]
  },
  {
   "cell_type": "markdown",
   "id": "3a532953",
   "metadata": {
    "papermill": {
     "duration": 0.021306,
     "end_time": "2022-04-15T18:49:45.815154",
     "exception": false,
     "start_time": "2022-04-15T18:49:45.793848",
     "status": "completed"
    },
    "tags": []
   },
   "source": [
    "In this exercise, you'll apply what you learned in the **Handling missing values** tutorial.\n",
    "\n",
    "# Setup\n",
    "\n",
    "The questions below will give you feedback on your work. Run the following cell to set up the feedback system."
   ]
  },
  {
   "cell_type": "code",
   "execution_count": 1,
   "id": "95c4a9ae",
   "metadata": {
    "execution": {
     "iopub.execute_input": "2022-04-15T18:49:45.858288Z",
     "iopub.status.busy": "2022-04-15T18:49:45.857972Z",
     "iopub.status.idle": "2022-04-15T18:49:49.368744Z",
     "shell.execute_reply": "2022-04-15T18:49:49.367753Z"
    },
    "papermill": {
     "duration": 3.535148,
     "end_time": "2022-04-15T18:49:49.370968",
     "exception": false,
     "start_time": "2022-04-15T18:49:45.835820",
     "status": "completed"
    },
    "tags": []
   },
   "outputs": [
    {
     "name": "stderr",
     "output_type": "stream",
     "text": [
      "/opt/conda/lib/python3.7/site-packages/ipykernel_launcher.py:3: DtypeWarning: Columns (22,32) have mixed types.Specify dtype option on import or set low_memory=False.\n",
      "  This is separate from the ipykernel package so we can avoid doing imports until\n"
     ]
    },
    {
     "name": "stdout",
     "output_type": "stream",
     "text": [
      "Setup Complete\n"
     ]
    }
   ],
   "source": [
    "from learntools.core import binder\n",
    "binder.bind(globals())\n",
    "from learntools.data_cleaning.ex1 import *\n",
    "print(\"Setup Complete\")"
   ]
  },
  {
   "cell_type": "markdown",
   "id": "740f033d",
   "metadata": {
    "papermill": {
     "duration": 0.021294,
     "end_time": "2022-04-15T18:49:49.414892",
     "exception": false,
     "start_time": "2022-04-15T18:49:49.393598",
     "status": "completed"
    },
    "tags": []
   },
   "source": [
    "# 1) Take a first look at the data\n",
    "\n",
    "Run the next code cell to load in the libraries and dataset you'll use to complete the exercise."
   ]
  },
  {
   "cell_type": "code",
   "execution_count": 2,
   "id": "35ed263f",
   "metadata": {
    "execution": {
     "iopub.execute_input": "2022-04-15T18:49:49.458562Z",
     "iopub.status.busy": "2022-04-15T18:49:49.457918Z",
     "iopub.status.idle": "2022-04-15T18:49:50.922086Z",
     "shell.execute_reply": "2022-04-15T18:49:50.921053Z"
    },
    "papermill": {
     "duration": 1.488387,
     "end_time": "2022-04-15T18:49:50.924172",
     "exception": false,
     "start_time": "2022-04-15T18:49:49.435785",
     "status": "completed"
    },
    "tags": []
   },
   "outputs": [
    {
     "name": "stderr",
     "output_type": "stream",
     "text": [
      "/opt/conda/lib/python3.7/site-packages/IPython/core/interactiveshell.py:3524: DtypeWarning: Columns (22,32) have mixed types.Specify dtype option on import or set low_memory=False.\n",
      "  exec(code_obj, self.user_global_ns, self.user_ns)\n"
     ]
    }
   ],
   "source": [
    "# modules we'll use\n",
    "import pandas as pd\n",
    "import numpy as np\n",
    "\n",
    "# read in all our data\n",
    "sf_permits = pd.read_csv(\"../input/building-permit-applications-data/Building_Permits.csv\")\n",
    "\n",
    "# set seed for reproducibility\n",
    "np.random.seed(0) "
   ]
  },
  {
   "cell_type": "code",
   "execution_count": 3,
   "id": "0293afe2",
   "metadata": {
    "execution": {
     "iopub.execute_input": "2022-04-15T18:49:50.968558Z",
     "iopub.status.busy": "2022-04-15T18:49:50.968040Z",
     "iopub.status.idle": "2022-04-15T18:49:50.998997Z",
     "shell.execute_reply": "2022-04-15T18:49:50.998051Z"
    },
    "papermill": {
     "duration": 0.055647,
     "end_time": "2022-04-15T18:49:51.001361",
     "exception": false,
     "start_time": "2022-04-15T18:49:50.945714",
     "status": "completed"
    },
    "tags": []
   },
   "outputs": [
    {
     "data": {
      "text/html": [
       "<div>\n",
       "<style scoped>\n",
       "    .dataframe tbody tr th:only-of-type {\n",
       "        vertical-align: middle;\n",
       "    }\n",
       "\n",
       "    .dataframe tbody tr th {\n",
       "        vertical-align: top;\n",
       "    }\n",
       "\n",
       "    .dataframe thead th {\n",
       "        text-align: right;\n",
       "    }\n",
       "</style>\n",
       "<table border=\"1\" class=\"dataframe\">\n",
       "  <thead>\n",
       "    <tr style=\"text-align: right;\">\n",
       "      <th></th>\n",
       "      <th>Permit Number</th>\n",
       "      <th>Permit Type</th>\n",
       "      <th>Permit Type Definition</th>\n",
       "      <th>Permit Creation Date</th>\n",
       "      <th>Block</th>\n",
       "      <th>Lot</th>\n",
       "      <th>Street Number</th>\n",
       "      <th>Street Number Suffix</th>\n",
       "      <th>Street Name</th>\n",
       "      <th>Street Suffix</th>\n",
       "      <th>...</th>\n",
       "      <th>Existing Construction Type</th>\n",
       "      <th>Existing Construction Type Description</th>\n",
       "      <th>Proposed Construction Type</th>\n",
       "      <th>Proposed Construction Type Description</th>\n",
       "      <th>Site Permit</th>\n",
       "      <th>Supervisor District</th>\n",
       "      <th>Neighborhoods - Analysis Boundaries</th>\n",
       "      <th>Zipcode</th>\n",
       "      <th>Location</th>\n",
       "      <th>Record ID</th>\n",
       "    </tr>\n",
       "  </thead>\n",
       "  <tbody>\n",
       "    <tr>\n",
       "      <th>0</th>\n",
       "      <td>201505065519</td>\n",
       "      <td>4</td>\n",
       "      <td>sign - erect</td>\n",
       "      <td>05/06/2015</td>\n",
       "      <td>0326</td>\n",
       "      <td>023</td>\n",
       "      <td>140</td>\n",
       "      <td>NaN</td>\n",
       "      <td>Ellis</td>\n",
       "      <td>St</td>\n",
       "      <td>...</td>\n",
       "      <td>3.0</td>\n",
       "      <td>constr type 3</td>\n",
       "      <td>NaN</td>\n",
       "      <td>NaN</td>\n",
       "      <td>NaN</td>\n",
       "      <td>3.0</td>\n",
       "      <td>Tenderloin</td>\n",
       "      <td>94102.0</td>\n",
       "      <td>(37.785719256680785, -122.40852313194863)</td>\n",
       "      <td>1380611233945</td>\n",
       "    </tr>\n",
       "    <tr>\n",
       "      <th>1</th>\n",
       "      <td>201604195146</td>\n",
       "      <td>4</td>\n",
       "      <td>sign - erect</td>\n",
       "      <td>04/19/2016</td>\n",
       "      <td>0306</td>\n",
       "      <td>007</td>\n",
       "      <td>440</td>\n",
       "      <td>NaN</td>\n",
       "      <td>Geary</td>\n",
       "      <td>St</td>\n",
       "      <td>...</td>\n",
       "      <td>3.0</td>\n",
       "      <td>constr type 3</td>\n",
       "      <td>NaN</td>\n",
       "      <td>NaN</td>\n",
       "      <td>NaN</td>\n",
       "      <td>3.0</td>\n",
       "      <td>Tenderloin</td>\n",
       "      <td>94102.0</td>\n",
       "      <td>(37.78733980600732, -122.41063199757738)</td>\n",
       "      <td>1420164406718</td>\n",
       "    </tr>\n",
       "    <tr>\n",
       "      <th>2</th>\n",
       "      <td>201605278609</td>\n",
       "      <td>3</td>\n",
       "      <td>additions alterations or repairs</td>\n",
       "      <td>05/27/2016</td>\n",
       "      <td>0595</td>\n",
       "      <td>203</td>\n",
       "      <td>1647</td>\n",
       "      <td>NaN</td>\n",
       "      <td>Pacific</td>\n",
       "      <td>Av</td>\n",
       "      <td>...</td>\n",
       "      <td>1.0</td>\n",
       "      <td>constr type 1</td>\n",
       "      <td>1.0</td>\n",
       "      <td>constr type 1</td>\n",
       "      <td>NaN</td>\n",
       "      <td>3.0</td>\n",
       "      <td>Russian Hill</td>\n",
       "      <td>94109.0</td>\n",
       "      <td>(37.7946573324287, -122.42232562979227)</td>\n",
       "      <td>1424856504716</td>\n",
       "    </tr>\n",
       "    <tr>\n",
       "      <th>3</th>\n",
       "      <td>201611072166</td>\n",
       "      <td>8</td>\n",
       "      <td>otc alterations permit</td>\n",
       "      <td>11/07/2016</td>\n",
       "      <td>0156</td>\n",
       "      <td>011</td>\n",
       "      <td>1230</td>\n",
       "      <td>NaN</td>\n",
       "      <td>Pacific</td>\n",
       "      <td>Av</td>\n",
       "      <td>...</td>\n",
       "      <td>5.0</td>\n",
       "      <td>wood frame (5)</td>\n",
       "      <td>5.0</td>\n",
       "      <td>wood frame (5)</td>\n",
       "      <td>NaN</td>\n",
       "      <td>3.0</td>\n",
       "      <td>Nob Hill</td>\n",
       "      <td>94109.0</td>\n",
       "      <td>(37.79595867909168, -122.41557405519474)</td>\n",
       "      <td>1443574295566</td>\n",
       "    </tr>\n",
       "    <tr>\n",
       "      <th>4</th>\n",
       "      <td>201611283529</td>\n",
       "      <td>6</td>\n",
       "      <td>demolitions</td>\n",
       "      <td>11/28/2016</td>\n",
       "      <td>0342</td>\n",
       "      <td>001</td>\n",
       "      <td>950</td>\n",
       "      <td>NaN</td>\n",
       "      <td>Market</td>\n",
       "      <td>St</td>\n",
       "      <td>...</td>\n",
       "      <td>3.0</td>\n",
       "      <td>constr type 3</td>\n",
       "      <td>NaN</td>\n",
       "      <td>NaN</td>\n",
       "      <td>NaN</td>\n",
       "      <td>6.0</td>\n",
       "      <td>Tenderloin</td>\n",
       "      <td>94102.0</td>\n",
       "      <td>(37.78315261897309, -122.40950883997789)</td>\n",
       "      <td>144548169992</td>\n",
       "    </tr>\n",
       "  </tbody>\n",
       "</table>\n",
       "<p>5 rows × 43 columns</p>\n",
       "</div>"
      ],
      "text/plain": [
       "  Permit Number  Permit Type            Permit Type Definition  \\\n",
       "0  201505065519            4                      sign - erect   \n",
       "1  201604195146            4                      sign - erect   \n",
       "2  201605278609            3  additions alterations or repairs   \n",
       "3  201611072166            8            otc alterations permit   \n",
       "4  201611283529            6                       demolitions   \n",
       "\n",
       "  Permit Creation Date Block  Lot  Street Number Street Number Suffix  \\\n",
       "0           05/06/2015  0326  023            140                  NaN   \n",
       "1           04/19/2016  0306  007            440                  NaN   \n",
       "2           05/27/2016  0595  203           1647                  NaN   \n",
       "3           11/07/2016  0156  011           1230                  NaN   \n",
       "4           11/28/2016  0342  001            950                  NaN   \n",
       "\n",
       "  Street Name Street Suffix  ...  Existing Construction Type  \\\n",
       "0       Ellis            St  ...                         3.0   \n",
       "1       Geary            St  ...                         3.0   \n",
       "2     Pacific            Av  ...                         1.0   \n",
       "3     Pacific            Av  ...                         5.0   \n",
       "4      Market            St  ...                         3.0   \n",
       "\n",
       "  Existing Construction Type Description Proposed Construction Type  \\\n",
       "0                          constr type 3                        NaN   \n",
       "1                          constr type 3                        NaN   \n",
       "2                          constr type 1                        1.0   \n",
       "3                         wood frame (5)                        5.0   \n",
       "4                          constr type 3                        NaN   \n",
       "\n",
       "  Proposed Construction Type Description Site Permit Supervisor District  \\\n",
       "0                                    NaN         NaN                 3.0   \n",
       "1                                    NaN         NaN                 3.0   \n",
       "2                          constr type 1         NaN                 3.0   \n",
       "3                         wood frame (5)         NaN                 3.0   \n",
       "4                                    NaN         NaN                 6.0   \n",
       "\n",
       "  Neighborhoods - Analysis Boundaries  Zipcode  \\\n",
       "0                          Tenderloin  94102.0   \n",
       "1                          Tenderloin  94102.0   \n",
       "2                        Russian Hill  94109.0   \n",
       "3                            Nob Hill  94109.0   \n",
       "4                          Tenderloin  94102.0   \n",
       "\n",
       "                                    Location      Record ID  \n",
       "0  (37.785719256680785, -122.40852313194863)  1380611233945  \n",
       "1   (37.78733980600732, -122.41063199757738)  1420164406718  \n",
       "2    (37.7946573324287, -122.42232562979227)  1424856504716  \n",
       "3   (37.79595867909168, -122.41557405519474)  1443574295566  \n",
       "4   (37.78315261897309, -122.40950883997789)   144548169992  \n",
       "\n",
       "[5 rows x 43 columns]"
      ]
     },
     "execution_count": 3,
     "metadata": {},
     "output_type": "execute_result"
    }
   ],
   "source": [
    "sf_permits.head()"
   ]
  },
  {
   "cell_type": "markdown",
   "id": "54453597",
   "metadata": {
    "papermill": {
     "duration": 0.023522,
     "end_time": "2022-04-15T18:49:51.050230",
     "exception": false,
     "start_time": "2022-04-15T18:49:51.026708",
     "status": "completed"
    },
    "tags": []
   },
   "source": [
    "Does the dataset have any missing values?  Once you have an answer, run the code cell below to get credit for your work."
   ]
  },
  {
   "cell_type": "markdown",
   "id": "28f829c9",
   "metadata": {
    "papermill": {
     "duration": 0.022673,
     "end_time": "2022-04-15T18:49:51.095723",
     "exception": false,
     "start_time": "2022-04-15T18:49:51.073050",
     "status": "completed"
    },
    "tags": []
   },
   "source": [
    "Yes,missing values found in dataset."
   ]
  },
  {
   "cell_type": "code",
   "execution_count": 4,
   "id": "247dba99",
   "metadata": {
    "execution": {
     "iopub.execute_input": "2022-04-15T18:49:51.142248Z",
     "iopub.status.busy": "2022-04-15T18:49:51.141645Z",
     "iopub.status.idle": "2022-04-15T18:49:51.372602Z",
     "shell.execute_reply": "2022-04-15T18:49:51.371884Z"
    },
    "papermill": {
     "duration": 0.256418,
     "end_time": "2022-04-15T18:49:51.374534",
     "exception": false,
     "start_time": "2022-04-15T18:49:51.118116",
     "status": "completed"
    },
    "tags": []
   },
   "outputs": [
    {
     "data": {
      "text/plain": [
       "Permit Number                  0\n",
       "Permit Type                    0\n",
       "Permit Type Definition         0\n",
       "Permit Creation Date           0\n",
       "Block                          0\n",
       "Lot                            0\n",
       "Street Number                  0\n",
       "Street Number Suffix      196684\n",
       "Street Name                    0\n",
       "Street Suffix               2768\n",
       "dtype: int64"
      ]
     },
     "execution_count": 4,
     "metadata": {},
     "output_type": "execute_result"
    }
   ],
   "source": [
    "#missing points in the first ten columns\n",
    "missing_val_cnt = sf_permits.isnull().sum()\n",
    "missing_val_cnt[0:10]"
   ]
  },
  {
   "cell_type": "markdown",
   "id": "3ecb31b1",
   "metadata": {
    "papermill": {
     "duration": 0.022205,
     "end_time": "2022-04-15T18:49:51.419144",
     "exception": false,
     "start_time": "2022-04-15T18:49:51.396939",
     "status": "completed"
    },
    "tags": []
   },
   "source": [
    "It returns missing points in the first ten columns."
   ]
  },
  {
   "cell_type": "code",
   "execution_count": 5,
   "id": "325b7807",
   "metadata": {
    "execution": {
     "iopub.execute_input": "2022-04-15T18:49:51.465994Z",
     "iopub.status.busy": "2022-04-15T18:49:51.465441Z",
     "iopub.status.idle": "2022-04-15T18:49:51.471303Z",
     "shell.execute_reply": "2022-04-15T18:49:51.470576Z"
    },
    "papermill": {
     "duration": 0.031464,
     "end_time": "2022-04-15T18:49:51.473082",
     "exception": false,
     "start_time": "2022-04-15T18:49:51.441618",
     "status": "completed"
    },
    "tags": []
   },
   "outputs": [
    {
     "data": {
      "application/javascript": [
       "parent.postMessage({\"jupyterEvent\": \"custom.exercise_interaction\", \"data\": {\"outcomeType\": 1, \"valueTowardsCompletion\": 0.16666666666666666, \"interactionType\": 1, \"questionType\": 4, \"questionId\": \"1_TakeFirstLook\", \"learnToolsVersion\": \"0.3.4\", \"failureMessage\": \"\", \"exceptionClass\": \"\", \"trace\": \"\"}}, \"*\")"
      ],
      "text/plain": [
       "<IPython.core.display.Javascript object>"
      ]
     },
     "metadata": {},
     "output_type": "display_data"
    },
    {
     "data": {
      "text/markdown": [
       "<span style=\"color:#33cc33\">Correct:</span> \n",
       "\n",
       "The first five rows of the data does show that several columns have missing values.  You can see this in the \"Street Number Suffix\", \"Proposed Construction Type\" and \"Site Permit\" columns, among others."
      ],
      "text/plain": [
       "Correct: \n",
       "\n",
       "The first five rows of the data does show that several columns have missing values.  You can see this in the \"Street Number Suffix\", \"Proposed Construction Type\" and \"Site Permit\" columns, among others."
      ]
     },
     "metadata": {},
     "output_type": "display_data"
    }
   ],
   "source": [
    "# Check your answer (Run this code cell to receive credit!)\n",
    "q1.check()"
   ]
  },
  {
   "cell_type": "code",
   "execution_count": 6,
   "id": "6bbf75d4",
   "metadata": {
    "execution": {
     "iopub.execute_input": "2022-04-15T18:49:51.521755Z",
     "iopub.status.busy": "2022-04-15T18:49:51.521238Z",
     "iopub.status.idle": "2022-04-15T18:49:51.524049Z",
     "shell.execute_reply": "2022-04-15T18:49:51.523515Z"
    },
    "papermill": {
     "duration": 0.029211,
     "end_time": "2022-04-15T18:49:51.525821",
     "exception": false,
     "start_time": "2022-04-15T18:49:51.496610",
     "status": "completed"
    },
    "tags": []
   },
   "outputs": [],
   "source": [
    "# Line below will give you a hint\n",
    "#q1.hint()"
   ]
  },
  {
   "cell_type": "markdown",
   "id": "1a31db6e",
   "metadata": {
    "papermill": {
     "duration": 0.023694,
     "end_time": "2022-04-15T18:49:51.573209",
     "exception": false,
     "start_time": "2022-04-15T18:49:51.549515",
     "status": "completed"
    },
    "tags": []
   },
   "source": [
    "# 2) How many missing data points do we have?\n",
    "\n",
    "What percentage of the values in the dataset are missing?  Your answer should be a number between 0 and 100.  (If 1/4 of the values in the dataset are missing, the answer is 25.)"
   ]
  },
  {
   "cell_type": "code",
   "execution_count": 7,
   "id": "6e26129e",
   "metadata": {
    "execution": {
     "iopub.execute_input": "2022-04-15T18:49:51.621660Z",
     "iopub.status.busy": "2022-04-15T18:49:51.621374Z",
     "iopub.status.idle": "2022-04-15T18:49:51.630080Z",
     "shell.execute_reply": "2022-04-15T18:49:51.629212Z"
    },
    "papermill": {
     "duration": 0.035271,
     "end_time": "2022-04-15T18:49:51.632054",
     "exception": false,
     "start_time": "2022-04-15T18:49:51.596783",
     "status": "completed"
    },
    "tags": []
   },
   "outputs": [
    {
     "name": "stdout",
     "output_type": "stream",
     "text": [
      "26.26002315058403\n"
     ]
    },
    {
     "data": {
      "application/javascript": [
       "parent.postMessage({\"jupyterEvent\": \"custom.exercise_interaction\", \"data\": {\"outcomeType\": 1, \"valueTowardsCompletion\": 0.16666666666666666, \"interactionType\": 1, \"questionType\": 1, \"questionId\": \"2_PercentMissingValues\", \"learnToolsVersion\": \"0.3.4\", \"failureMessage\": \"\", \"exceptionClass\": \"\", \"trace\": \"\"}}, \"*\")"
      ],
      "text/plain": [
       "<IPython.core.display.Javascript object>"
      ]
     },
     "metadata": {},
     "output_type": "display_data"
    },
    {
     "data": {
      "text/markdown": [
       "<span style=\"color:#33cc33\">Correct</span>"
      ],
      "text/plain": [
       "Correct"
      ]
     },
     "metadata": {},
     "output_type": "display_data"
    }
   ],
   "source": [
    "# TODO: Your code here!\n",
    "tot_cells = np.product(sf_permits.shape)\n",
    "tot_missing = missing_val_cnt.sum()\n",
    "percent_missing = (tot_missing/tot_cells) * 100\n",
    "print(percent_missing)\n",
    "\n",
    "# Check your answer\n",
    "q2.check()"
   ]
  },
  {
   "cell_type": "code",
   "execution_count": 8,
   "id": "fed00f87",
   "metadata": {
    "execution": {
     "iopub.execute_input": "2022-04-15T18:49:51.682709Z",
     "iopub.status.busy": "2022-04-15T18:49:51.682368Z",
     "iopub.status.idle": "2022-04-15T18:49:51.685996Z",
     "shell.execute_reply": "2022-04-15T18:49:51.685184Z"
    },
    "papermill": {
     "duration": 0.030862,
     "end_time": "2022-04-15T18:49:51.687790",
     "exception": false,
     "start_time": "2022-04-15T18:49:51.656928",
     "status": "completed"
    },
    "tags": []
   },
   "outputs": [],
   "source": [
    "# Lines below will give you a hint or solution code\n",
    "#q2.hint()\n",
    "#q2.solution()"
   ]
  },
  {
   "cell_type": "markdown",
   "id": "f1525ce3",
   "metadata": {
    "papermill": {
     "duration": 0.024282,
     "end_time": "2022-04-15T18:49:51.736511",
     "exception": false,
     "start_time": "2022-04-15T18:49:51.712229",
     "status": "completed"
    },
    "tags": []
   },
   "source": [
    "# 3) Figure out why the data is missing\n",
    "\n",
    "Look at the columns **\"Street Number Suffix\"** and **\"Zipcode\"** from the [San Francisco Building Permits dataset](https://www.kaggle.com/aparnashastry/building-permit-applications-data). Both of these contain missing values. \n",
    "- Which, if either, are missing because they don't exist? \n",
    "- Which, if either, are missing because they weren't recorded?  \n",
    "\n",
    "Once you have an answer, run the code cell below."
   ]
  },
  {
   "cell_type": "code",
   "execution_count": 9,
   "id": "fce1b745",
   "metadata": {
    "execution": {
     "iopub.execute_input": "2022-04-15T18:49:51.786430Z",
     "iopub.status.busy": "2022-04-15T18:49:51.786123Z",
     "iopub.status.idle": "2022-04-15T18:49:52.057149Z",
     "shell.execute_reply": "2022-04-15T18:49:52.056335Z"
    },
    "papermill": {
     "duration": 0.298174,
     "end_time": "2022-04-15T18:49:52.059059",
     "exception": false,
     "start_time": "2022-04-15T18:49:51.760885",
     "status": "completed"
    },
    "tags": []
   },
   "outputs": [
    {
     "data": {
      "text/plain": [
       "Permit Number                  0\n",
       "Permit Type                    0\n",
       "Permit Type Definition         0\n",
       "Permit Creation Date           0\n",
       "Block                          0\n",
       "Lot                            0\n",
       "Street Number                  0\n",
       "Street Number Suffix      196684\n",
       "Street Name                    0\n",
       "Street Suffix               2768\n",
       "dtype: int64"
      ]
     },
     "execution_count": 9,
     "metadata": {},
     "output_type": "execute_result"
    }
   ],
   "source": [
    "subset_sf_permits=sf_permits.loc[:,'Street Number Suffix':'Zipcode'].head()\n",
    "missing_val_cnt = sf_permits.isnull().sum()\n",
    "missing_val_cnt[0:10]\n",
    "\n"
   ]
  },
  {
   "cell_type": "code",
   "execution_count": 10,
   "id": "f08d98d0",
   "metadata": {
    "execution": {
     "iopub.execute_input": "2022-04-15T18:49:52.110423Z",
     "iopub.status.busy": "2022-04-15T18:49:52.110123Z",
     "iopub.status.idle": "2022-04-15T18:49:52.118745Z",
     "shell.execute_reply": "2022-04-15T18:49:52.117926Z"
    },
    "papermill": {
     "duration": 0.036656,
     "end_time": "2022-04-15T18:49:52.120762",
     "exception": false,
     "start_time": "2022-04-15T18:49:52.084106",
     "status": "completed"
    },
    "tags": []
   },
   "outputs": [
    {
     "data": {
      "text/plain": [
       "Street Number Suffix    196684\n",
       "Zipcode                   1716\n",
       "dtype: int64"
      ]
     },
     "execution_count": 10,
     "metadata": {},
     "output_type": "execute_result"
    }
   ],
   "source": [
    "tot_cells = np.product(sf_permits.shape)\n",
    "values = ['Street Number Suffix', 'Zipcode']\n",
    "missing_val_cnt[values]"
   ]
  },
  {
   "cell_type": "markdown",
   "id": "4f752e10",
   "metadata": {
    "papermill": {
     "duration": 0.024364,
     "end_time": "2022-04-15T18:49:52.170363",
     "exception": false,
     "start_time": "2022-04-15T18:49:52.145999",
     "status": "completed"
    },
    "tags": []
   },
   "source": [
    "If a value in the \"Street Number Suffix\" column is missing, it is likely because it does not exist. If a value in the \"Zipcode\" column is missing, it was not recorded."
   ]
  },
  {
   "cell_type": "code",
   "execution_count": 11,
   "id": "e2345dad",
   "metadata": {
    "execution": {
     "iopub.execute_input": "2022-04-15T18:49:52.221681Z",
     "iopub.status.busy": "2022-04-15T18:49:52.221113Z",
     "iopub.status.idle": "2022-04-15T18:49:52.228126Z",
     "shell.execute_reply": "2022-04-15T18:49:52.227551Z"
    },
    "papermill": {
     "duration": 0.034741,
     "end_time": "2022-04-15T18:49:52.229875",
     "exception": false,
     "start_time": "2022-04-15T18:49:52.195134",
     "status": "completed"
    },
    "tags": []
   },
   "outputs": [
    {
     "data": {
      "application/javascript": [
       "parent.postMessage({\"jupyterEvent\": \"custom.exercise_interaction\", \"data\": {\"outcomeType\": 1, \"valueTowardsCompletion\": 0.16666666666666666, \"interactionType\": 1, \"questionType\": 4, \"questionId\": \"3_WhyDataMissing\", \"learnToolsVersion\": \"0.3.4\", \"failureMessage\": \"\", \"exceptionClass\": \"\", \"trace\": \"\"}}, \"*\")"
      ],
      "text/plain": [
       "<IPython.core.display.Javascript object>"
      ]
     },
     "metadata": {},
     "output_type": "display_data"
    },
    {
     "data": {
      "text/markdown": [
       "<span style=\"color:#33cc33\">Correct:</span> \n",
       "\n",
       "If a value in the \"Street Number Suffix\" column is missing, it is likely because it does not exist. If a value in the \"Zipcode\" column is missing, it was not recorded."
      ],
      "text/plain": [
       "Correct: \n",
       "\n",
       "If a value in the \"Street Number Suffix\" column is missing, it is likely because it does not exist. If a value in the \"Zipcode\" column is missing, it was not recorded."
      ]
     },
     "metadata": {},
     "output_type": "display_data"
    }
   ],
   "source": [
    "# Check your answer (Run this code cell to receive credit!)\n",
    "q3.check()"
   ]
  },
  {
   "cell_type": "code",
   "execution_count": 12,
   "id": "6eae9bf4",
   "metadata": {
    "execution": {
     "iopub.execute_input": "2022-04-15T18:49:52.282991Z",
     "iopub.status.busy": "2022-04-15T18:49:52.282584Z",
     "iopub.status.idle": "2022-04-15T18:49:52.285699Z",
     "shell.execute_reply": "2022-04-15T18:49:52.285179Z"
    },
    "papermill": {
     "duration": 0.031721,
     "end_time": "2022-04-15T18:49:52.287289",
     "exception": false,
     "start_time": "2022-04-15T18:49:52.255568",
     "status": "completed"
    },
    "tags": []
   },
   "outputs": [],
   "source": [
    "# Line below will give you a hint\n",
    "#q3.hint()"
   ]
  },
  {
   "cell_type": "markdown",
   "id": "6a28638c",
   "metadata": {
    "papermill": {
     "duration": 0.025537,
     "end_time": "2022-04-15T18:49:52.338643",
     "exception": false,
     "start_time": "2022-04-15T18:49:52.313106",
     "status": "completed"
    },
    "tags": []
   },
   "source": [
    "# 4) Drop missing values: rows\n",
    "\n",
    "If you removed all of the rows of `sf_permits` with missing values, how many rows are left?\n",
    "\n",
    "**Note**: Do not change the value of `sf_permits` when checking this.  "
   ]
  },
  {
   "cell_type": "code",
   "execution_count": 13,
   "id": "11181728",
   "metadata": {
    "execution": {
     "iopub.execute_input": "2022-04-15T18:49:52.391968Z",
     "iopub.status.busy": "2022-04-15T18:49:52.391589Z",
     "iopub.status.idle": "2022-04-15T18:49:52.720207Z",
     "shell.execute_reply": "2022-04-15T18:49:52.719673Z"
    },
    "papermill": {
     "duration": 0.357387,
     "end_time": "2022-04-15T18:49:52.721919",
     "exception": false,
     "start_time": "2022-04-15T18:49:52.364532",
     "status": "completed"
    },
    "tags": []
   },
   "outputs": [
    {
     "data": {
      "text/html": [
       "<div>\n",
       "<style scoped>\n",
       "    .dataframe tbody tr th:only-of-type {\n",
       "        vertical-align: middle;\n",
       "    }\n",
       "\n",
       "    .dataframe tbody tr th {\n",
       "        vertical-align: top;\n",
       "    }\n",
       "\n",
       "    .dataframe thead th {\n",
       "        text-align: right;\n",
       "    }\n",
       "</style>\n",
       "<table border=\"1\" class=\"dataframe\">\n",
       "  <thead>\n",
       "    <tr style=\"text-align: right;\">\n",
       "      <th></th>\n",
       "      <th>Permit Number</th>\n",
       "      <th>Permit Type</th>\n",
       "      <th>Permit Type Definition</th>\n",
       "      <th>Permit Creation Date</th>\n",
       "      <th>Block</th>\n",
       "      <th>Lot</th>\n",
       "      <th>Street Number</th>\n",
       "      <th>Street Number Suffix</th>\n",
       "      <th>Street Name</th>\n",
       "      <th>Street Suffix</th>\n",
       "      <th>...</th>\n",
       "      <th>Existing Construction Type</th>\n",
       "      <th>Existing Construction Type Description</th>\n",
       "      <th>Proposed Construction Type</th>\n",
       "      <th>Proposed Construction Type Description</th>\n",
       "      <th>Site Permit</th>\n",
       "      <th>Supervisor District</th>\n",
       "      <th>Neighborhoods - Analysis Boundaries</th>\n",
       "      <th>Zipcode</th>\n",
       "      <th>Location</th>\n",
       "      <th>Record ID</th>\n",
       "    </tr>\n",
       "  </thead>\n",
       "  <tbody>\n",
       "  </tbody>\n",
       "</table>\n",
       "<p>0 rows × 43 columns</p>\n",
       "</div>"
      ],
      "text/plain": [
       "Empty DataFrame\n",
       "Columns: [Permit Number, Permit Type, Permit Type Definition, Permit Creation Date, Block, Lot, Street Number, Street Number Suffix, Street Name, Street Suffix, Unit, Unit Suffix, Description, Current Status, Current Status Date, Filed Date, Issued Date, Completed Date, First Construction Document Date, Structural Notification, Number of Existing Stories, Number of Proposed Stories, Voluntary Soft-Story Retrofit, Fire Only Permit, Permit Expiration Date, Estimated Cost, Revised Cost, Existing Use, Existing Units, Proposed Use, Proposed Units, Plansets, TIDF Compliance, Existing Construction Type, Existing Construction Type Description, Proposed Construction Type, Proposed Construction Type Description, Site Permit, Supervisor District, Neighborhoods - Analysis Boundaries, Zipcode, Location, Record ID]\n",
       "Index: []\n",
       "\n",
       "[0 rows x 43 columns]"
      ]
     },
     "execution_count": 13,
     "metadata": {},
     "output_type": "execute_result"
    }
   ],
   "source": [
    "#TODO: Your code here!\n",
    "\n",
    "sf_permits_copy=sf_permits.copy()\n",
    "sf_permits_copy.dropna()"
   ]
  },
  {
   "cell_type": "markdown",
   "id": "dd90ca7b",
   "metadata": {
    "papermill": {
     "duration": 0.026303,
     "end_time": "2022-04-15T18:49:52.774782",
     "exception": false,
     "start_time": "2022-04-15T18:49:52.748479",
     "status": "completed"
    },
    "tags": []
   },
   "source": [
    "Once you have an answer, run the code cell below."
   ]
  },
  {
   "cell_type": "code",
   "execution_count": 14,
   "id": "bc1489ef",
   "metadata": {
    "execution": {
     "iopub.execute_input": "2022-04-15T18:49:52.830874Z",
     "iopub.status.busy": "2022-04-15T18:49:52.830310Z",
     "iopub.status.idle": "2022-04-15T18:49:52.835820Z",
     "shell.execute_reply": "2022-04-15T18:49:52.835282Z"
    },
    "papermill": {
     "duration": 0.036085,
     "end_time": "2022-04-15T18:49:52.837502",
     "exception": false,
     "start_time": "2022-04-15T18:49:52.801417",
     "status": "completed"
    },
    "tags": []
   },
   "outputs": [
    {
     "data": {
      "application/javascript": [
       "parent.postMessage({\"jupyterEvent\": \"custom.exercise_interaction\", \"data\": {\"outcomeType\": 1, \"valueTowardsCompletion\": 0.16666666666666666, \"interactionType\": 1, \"questionType\": 4, \"questionId\": \"4_DropMissingRows\", \"learnToolsVersion\": \"0.3.4\", \"failureMessage\": \"\", \"exceptionClass\": \"\", \"trace\": \"\"}}, \"*\")"
      ],
      "text/plain": [
       "<IPython.core.display.Javascript object>"
      ]
     },
     "metadata": {},
     "output_type": "display_data"
    },
    {
     "data": {
      "text/markdown": [
       "<span style=\"color:#33cc33\">Correct:</span> \n",
       "\n",
       "There are no rows remaining in the dataset!"
      ],
      "text/plain": [
       "Correct: \n",
       "\n",
       "There are no rows remaining in the dataset!"
      ]
     },
     "metadata": {},
     "output_type": "display_data"
    }
   ],
   "source": [
    "# Check your answer (Run this code cell to receive credit!)\n",
    "q4.check()"
   ]
  },
  {
   "cell_type": "code",
   "execution_count": 15,
   "id": "8e4df791",
   "metadata": {
    "execution": {
     "iopub.execute_input": "2022-04-15T18:49:52.895849Z",
     "iopub.status.busy": "2022-04-15T18:49:52.895366Z",
     "iopub.status.idle": "2022-04-15T18:49:52.898132Z",
     "shell.execute_reply": "2022-04-15T18:49:52.897601Z"
    },
    "papermill": {
     "duration": 0.033271,
     "end_time": "2022-04-15T18:49:52.899917",
     "exception": false,
     "start_time": "2022-04-15T18:49:52.866646",
     "status": "completed"
    },
    "tags": []
   },
   "outputs": [],
   "source": [
    "# Line below will give you a hint\n",
    "#q4.hint()"
   ]
  },
  {
   "cell_type": "markdown",
   "id": "fc9de2da",
   "metadata": {
    "papermill": {
     "duration": 0.026963,
     "end_time": "2022-04-15T18:49:52.954236",
     "exception": false,
     "start_time": "2022-04-15T18:49:52.927273",
     "status": "completed"
    },
    "tags": []
   },
   "source": [
    "# 5) Drop missing values: columns\n",
    "\n",
    "Now try removing all the columns with empty values.  \n",
    "- Create a new DataFrame called `sf_permits_with_na_dropped` that has all of the columns with empty values removed.  \n",
    "- How many columns were removed from the original `sf_permits` DataFrame? Use this number to set the value of the `dropped_columns` variable below."
   ]
  },
  {
   "cell_type": "code",
   "execution_count": 16,
   "id": "83ecf98f",
   "metadata": {
    "execution": {
     "iopub.execute_input": "2022-04-15T18:49:53.011964Z",
     "iopub.status.busy": "2022-04-15T18:49:53.011471Z",
     "iopub.status.idle": "2022-04-15T18:49:53.254176Z",
     "shell.execute_reply": "2022-04-15T18:49:53.253392Z"
    },
    "papermill": {
     "duration": 0.274872,
     "end_time": "2022-04-15T18:49:53.256294",
     "exception": false,
     "start_time": "2022-04-15T18:49:52.981422",
     "status": "completed"
    },
    "tags": []
   },
   "outputs": [
    {
     "name": "stdout",
     "output_type": "stream",
     "text": [
      "Columns in original dataset: 43 \n",
      "\n",
      "Columns with na's dropped: 12\n"
     ]
    }
   ],
   "source": [
    "sf_permits_with_na_dropped= sf_permits.dropna(axis=1)\n",
    "print(\"Columns in original dataset: %d \\n\" % sf_permits.shape[1])\n",
    "print(\"Columns with na's dropped: %d\" % sf_permits_with_na_dropped.shape[1])\n",
    "\n",
    "dropped_columns=sf_permits.shape[1]-sf_permits_with_na_dropped.shape[1]"
   ]
  },
  {
   "cell_type": "code",
   "execution_count": 17,
   "id": "fcfc3af7",
   "metadata": {
    "execution": {
     "iopub.execute_input": "2022-04-15T18:49:53.313220Z",
     "iopub.status.busy": "2022-04-15T18:49:53.312744Z",
     "iopub.status.idle": "2022-04-15T18:49:53.318902Z",
     "shell.execute_reply": "2022-04-15T18:49:53.318386Z"
    },
    "papermill": {
     "duration": 0.036624,
     "end_time": "2022-04-15T18:49:53.320487",
     "exception": false,
     "start_time": "2022-04-15T18:49:53.283863",
     "status": "completed"
    },
    "tags": []
   },
   "outputs": [
    {
     "data": {
      "application/javascript": [
       "parent.postMessage({\"jupyterEvent\": \"custom.exercise_interaction\", \"data\": {\"outcomeType\": 1, \"valueTowardsCompletion\": 0.16666666666666666, \"interactionType\": 1, \"questionType\": 1, \"questionId\": \"5_DropMissingCols\", \"learnToolsVersion\": \"0.3.4\", \"failureMessage\": \"\", \"exceptionClass\": \"\", \"trace\": \"\"}}, \"*\")"
      ],
      "text/plain": [
       "<IPython.core.display.Javascript object>"
      ]
     },
     "metadata": {},
     "output_type": "display_data"
    },
    {
     "data": {
      "text/markdown": [
       "<span style=\"color:#33cc33\">Correct</span>"
      ],
      "text/plain": [
       "Correct"
      ]
     },
     "metadata": {},
     "output_type": "display_data"
    }
   ],
   "source": [
    "# Lines below will give you a hint or solution code\n",
    "q5.check()\n",
    "#q5.hint()\n",
    "#q5.solution()"
   ]
  },
  {
   "cell_type": "markdown",
   "id": "7d1345cd",
   "metadata": {
    "papermill": {
     "duration": 0.028139,
     "end_time": "2022-04-15T18:49:53.377170",
     "exception": false,
     "start_time": "2022-04-15T18:49:53.349031",
     "status": "completed"
    },
    "tags": []
   },
   "source": [
    "# 6) Fill in missing values automatically\n",
    "\n",
    "Try replacing all the NaN's in the `sf_permits` data with the one that comes directly after it and then replacing any remaining NaN's with 0.  Set the result to a new DataFrame `sf_permits_with_na_imputed`."
   ]
  },
  {
   "cell_type": "code",
   "execution_count": 18,
   "id": "9280cc19",
   "metadata": {
    "execution": {
     "iopub.execute_input": "2022-04-15T18:49:53.435579Z",
     "iopub.status.busy": "2022-04-15T18:49:53.435132Z",
     "iopub.status.idle": "2022-04-15T18:49:54.291807Z",
     "shell.execute_reply": "2022-04-15T18:49:54.291025Z"
    },
    "papermill": {
     "duration": 0.887689,
     "end_time": "2022-04-15T18:49:54.293535",
     "exception": false,
     "start_time": "2022-04-15T18:49:53.405846",
     "status": "completed"
    },
    "tags": []
   },
   "outputs": [
    {
     "data": {
      "application/javascript": [
       "parent.postMessage({\"jupyterEvent\": \"custom.exercise_interaction\", \"data\": {\"outcomeType\": 1, \"valueTowardsCompletion\": 0.16666666666666666, \"interactionType\": 1, \"questionType\": 1, \"questionId\": \"6_ImputeAutomatically\", \"learnToolsVersion\": \"0.3.4\", \"failureMessage\": \"\", \"exceptionClass\": \"\", \"trace\": \"\"}}, \"*\")"
      ],
      "text/plain": [
       "<IPython.core.display.Javascript object>"
      ]
     },
     "metadata": {},
     "output_type": "display_data"
    },
    {
     "data": {
      "text/markdown": [
       "<span style=\"color:#33cc33\">Correct</span>"
      ],
      "text/plain": [
       "Correct"
      ]
     },
     "metadata": {},
     "output_type": "display_data"
    }
   ],
   "source": [
    "sf_permits_with_na_imputed = sf_permits.fillna(method='bfill',axis = 0).fillna(0)\n",
    "q6.check()\n"
   ]
  },
  {
   "cell_type": "code",
   "execution_count": 19,
   "id": "785e526d",
   "metadata": {
    "execution": {
     "iopub.execute_input": "2022-04-15T18:49:54.354393Z",
     "iopub.status.busy": "2022-04-15T18:49:54.353878Z",
     "iopub.status.idle": "2022-04-15T18:49:54.356661Z",
     "shell.execute_reply": "2022-04-15T18:49:54.356163Z"
    },
    "papermill": {
     "duration": 0.035433,
     "end_time": "2022-04-15T18:49:54.358190",
     "exception": false,
     "start_time": "2022-04-15T18:49:54.322757",
     "status": "completed"
    },
    "tags": []
   },
   "outputs": [],
   "source": [
    "# Lines below will give you a hint or solution code\n",
    "#q6.hint()\n",
    "#q6.solution()"
   ]
  },
  {
   "cell_type": "markdown",
   "id": "a999cbef",
   "metadata": {
    "papermill": {
     "duration": 0.028984,
     "end_time": "2022-04-15T18:49:54.416276",
     "exception": false,
     "start_time": "2022-04-15T18:49:54.387292",
     "status": "completed"
    },
    "tags": []
   },
   "source": [
    "# More practice\n",
    "\n",
    "If you're looking for more practice handling missing values:\n",
    "\n",
    "* Check out [this noteboook](https://www.kaggle.com/alexisbcook/missing-values) on handling missing values using scikit-learn's imputer. \n",
    "* Look back at the \"Zipcode\" column in the `sf_permits` dataset, which has some missing values. How would you go about figuring out what the actual zipcode of each address should be? (You might try using another dataset. You can search for datasets about San Fransisco on the [Datasets listing](https://www.kaggle.com/datasets).) \n",
    "\n",
    "# Keep going\n",
    "\n",
    "In the next lesson, learn how to [**apply scaling and normalization**](https://www.kaggle.com/alexisbcook/scaling-and-normalization) to transform your data."
   ]
  },
  {
   "cell_type": "markdown",
   "id": "30411d2b",
   "metadata": {
    "papermill": {
     "duration": 0.028863,
     "end_time": "2022-04-15T18:49:54.474400",
     "exception": false,
     "start_time": "2022-04-15T18:49:54.445537",
     "status": "completed"
    },
    "tags": []
   },
   "source": [
    "---\n",
    "\n",
    "\n",
    "\n",
    "\n",
    "*Have questions or comments? Visit the [course discussion forum](https://www.kaggle.com/learn/data-cleaning/discussion) to chat with other learners.*"
   ]
  }
 ],
 "metadata": {
  "kernelspec": {
   "display_name": "Python 3",
   "language": "python",
   "name": "python3"
  },
  "language_info": {
   "codemirror_mode": {
    "name": "ipython",
    "version": 3
   },
   "file_extension": ".py",
   "mimetype": "text/x-python",
   "name": "python",
   "nbconvert_exporter": "python",
   "pygments_lexer": "ipython3",
   "version": "3.7.12"
  },
  "papermill": {
   "default_parameters": {},
   "duration": 17.634003,
   "end_time": "2022-04-15T18:49:55.224541",
   "environment_variables": {},
   "exception": null,
   "input_path": "__notebook__.ipynb",
   "output_path": "__notebook__.ipynb",
   "parameters": {},
   "start_time": "2022-04-15T18:49:37.590538",
   "version": "2.3.4"
  }
 },
 "nbformat": 4,
 "nbformat_minor": 5
}
