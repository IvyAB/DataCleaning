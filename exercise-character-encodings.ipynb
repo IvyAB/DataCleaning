{
 "cells": [
  {
   "cell_type": "markdown",
   "id": "d0a51c9f",
   "metadata": {
    "papermill": {
     "duration": 0.019928,
     "end_time": "2022-04-15T18:58:41.631062",
     "exception": false,
     "start_time": "2022-04-15T18:58:41.611134",
     "status": "completed"
    },
    "tags": []
   },
   "source": [
    "**This notebook is an exercise in the [Data Cleaning](https://www.kaggle.com/learn/data-cleaning) course.  You can reference the tutorial at [this link](https://www.kaggle.com/alexisbcook/character-encodings).**\n",
    "\n",
    "---\n"
   ]
  },
  {
   "cell_type": "markdown",
   "id": "b9093fe6",
   "metadata": {
    "papermill": {
     "duration": 0.017422,
     "end_time": "2022-04-15T18:58:41.667125",
     "exception": false,
     "start_time": "2022-04-15T18:58:41.649703",
     "status": "completed"
    },
    "tags": []
   },
   "source": [
    "In this exercise, you'll apply what you learned in the **Character encodings** tutorial.\n",
    "\n",
    "# Setup\n",
    "\n",
    "The questions below will give you feedback on your work. Run the following cell to set up the feedback system."
   ]
  },
  {
   "cell_type": "code",
   "execution_count": 1,
   "id": "41701f26",
   "metadata": {
    "execution": {
     "iopub.execute_input": "2022-04-15T18:58:41.705001Z",
     "iopub.status.busy": "2022-04-15T18:58:41.704146Z",
     "iopub.status.idle": "2022-04-15T18:58:41.800330Z",
     "shell.execute_reply": "2022-04-15T18:58:41.799330Z"
    },
    "papermill": {
     "duration": 0.117834,
     "end_time": "2022-04-15T18:58:41.802961",
     "exception": false,
     "start_time": "2022-04-15T18:58:41.685127",
     "status": "completed"
    },
    "tags": []
   },
   "outputs": [
    {
     "name": "stdout",
     "output_type": "stream",
     "text": [
      "Setup Complete\n"
     ]
    }
   ],
   "source": [
    "from learntools.core import binder\n",
    "binder.bind(globals())\n",
    "from learntools.data_cleaning.ex4 import *\n",
    "print(\"Setup Complete\")"
   ]
  },
  {
   "cell_type": "markdown",
   "id": "58aab189",
   "metadata": {
    "papermill": {
     "duration": 0.017319,
     "end_time": "2022-04-15T18:58:41.838394",
     "exception": false,
     "start_time": "2022-04-15T18:58:41.821075",
     "status": "completed"
    },
    "tags": []
   },
   "source": [
    "# Get our environment set up\n",
    "\n",
    "The first thing we'll need to do is load in the libraries we'll be using."
   ]
  },
  {
   "cell_type": "code",
   "execution_count": 2,
   "id": "b051bd4a",
   "metadata": {
    "execution": {
     "iopub.execute_input": "2022-04-15T18:58:41.877400Z",
     "iopub.status.busy": "2022-04-15T18:58:41.876557Z",
     "iopub.status.idle": "2022-04-15T18:58:41.881385Z",
     "shell.execute_reply": "2022-04-15T18:58:41.880596Z"
    },
    "papermill": {
     "duration": 0.026755,
     "end_time": "2022-04-15T18:58:41.883494",
     "exception": false,
     "start_time": "2022-04-15T18:58:41.856739",
     "status": "completed"
    },
    "tags": []
   },
   "outputs": [],
   "source": [
    "# modules we'll use\n",
    "import pandas as pd\n",
    "import numpy as np\n",
    "\n",
    "# helpful character encoding module\n",
    "import chardet\n",
    "\n",
    "# set seed for reproducibility\n",
    "np.random.seed(0)"
   ]
  },
  {
   "cell_type": "markdown",
   "id": "96f01432",
   "metadata": {
    "papermill": {
     "duration": 0.018433,
     "end_time": "2022-04-15T18:58:41.920213",
     "exception": false,
     "start_time": "2022-04-15T18:58:41.901780",
     "status": "completed"
    },
    "tags": []
   },
   "source": [
    "# 1) What are encodings?\n",
    "\n",
    "You're working with a dataset composed of bytes.  Run the code cell below to print a sample entry."
   ]
  },
  {
   "cell_type": "code",
   "execution_count": 3,
   "id": "424caeab",
   "metadata": {
    "execution": {
     "iopub.execute_input": "2022-04-15T18:58:41.959960Z",
     "iopub.status.busy": "2022-04-15T18:58:41.959255Z",
     "iopub.status.idle": "2022-04-15T18:58:41.965096Z",
     "shell.execute_reply": "2022-04-15T18:58:41.963958Z"
    },
    "papermill": {
     "duration": 0.028321,
     "end_time": "2022-04-15T18:58:41.967248",
     "exception": false,
     "start_time": "2022-04-15T18:58:41.938927",
     "status": "completed"
    },
    "tags": []
   },
   "outputs": [
    {
     "name": "stdout",
     "output_type": "stream",
     "text": [
      "b'\\xa7A\\xa6n'\n",
      "data type: <class 'bytes'>\n"
     ]
    }
   ],
   "source": [
    "sample_entry = b'\\xa7A\\xa6n'\n",
    "print(sample_entry)\n",
    "print('data type:', type(sample_entry))"
   ]
  },
  {
   "cell_type": "markdown",
   "id": "2d2d7fec",
   "metadata": {
    "papermill": {
     "duration": 0.017865,
     "end_time": "2022-04-15T18:58:42.003276",
     "exception": false,
     "start_time": "2022-04-15T18:58:41.985411",
     "status": "completed"
    },
    "tags": []
   },
   "source": [
    "You notice that it doesn't use the standard UTF-8 encoding. \n",
    "\n",
    "Use the next code cell to create a variable `new_entry` that changes the encoding from `\"big5-tw\"` to `\"utf-8\"`.  `new_entry` should have the bytes datatype."
   ]
  },
  {
   "cell_type": "code",
   "execution_count": 4,
   "id": "0d8d6b45",
   "metadata": {
    "execution": {
     "iopub.execute_input": "2022-04-15T18:58:42.042126Z",
     "iopub.status.busy": "2022-04-15T18:58:42.041552Z",
     "iopub.status.idle": "2022-04-15T18:58:42.053013Z",
     "shell.execute_reply": "2022-04-15T18:58:42.051742Z"
    },
    "papermill": {
     "duration": 0.033676,
     "end_time": "2022-04-15T18:58:42.055284",
     "exception": false,
     "start_time": "2022-04-15T18:58:42.021608",
     "status": "completed"
    },
    "tags": []
   },
   "outputs": [
    {
     "data": {
      "application/javascript": [
       "parent.postMessage({\"jupyterEvent\": \"custom.exercise_interaction\", \"data\": {\"outcomeType\": 1, \"valueTowardsCompletion\": 0.3333333333333333, \"interactionType\": 1, \"questionType\": 1, \"questionId\": \"1_EncodingsIntro\", \"learnToolsVersion\": \"0.3.4\", \"failureMessage\": \"\", \"exceptionClass\": \"\", \"trace\": \"\"}}, \"*\")"
      ],
      "text/plain": [
       "<IPython.core.display.Javascript object>"
      ]
     },
     "metadata": {},
     "output_type": "display_data"
    },
    {
     "data": {
      "text/markdown": [
       "<span style=\"color:#33cc33\">Correct</span>"
      ],
      "text/plain": [
       "Correct"
      ]
     },
     "metadata": {},
     "output_type": "display_data"
    }
   ],
   "source": [
    "before = sample_entry.decode(\"big5-tw\")\n",
    "new_entry = before.encode()\n",
    "# Check your answer\n",
    "q1.check()\n"
   ]
  },
  {
   "cell_type": "code",
   "execution_count": 5,
   "id": "026580fd",
   "metadata": {
    "execution": {
     "iopub.execute_input": "2022-04-15T18:58:42.095228Z",
     "iopub.status.busy": "2022-04-15T18:58:42.094718Z",
     "iopub.status.idle": "2022-04-15T18:58:42.098344Z",
     "shell.execute_reply": "2022-04-15T18:58:42.097755Z"
    },
    "papermill": {
     "duration": 0.026206,
     "end_time": "2022-04-15T18:58:42.100318",
     "exception": false,
     "start_time": "2022-04-15T18:58:42.074112",
     "status": "completed"
    },
    "tags": []
   },
   "outputs": [],
   "source": [
    "# Lines below will give you a hint or solution code\n",
    "#q1.hint()\n",
    "#q1.solution()"
   ]
  },
  {
   "cell_type": "markdown",
   "id": "65791221",
   "metadata": {
    "papermill": {
     "duration": 0.018514,
     "end_time": "2022-04-15T18:58:42.137470",
     "exception": false,
     "start_time": "2022-04-15T18:58:42.118956",
     "status": "completed"
    },
    "tags": []
   },
   "source": [
    "# 2) Reading in files with encoding problems\n",
    "\n",
    "Use the code cell below to read in this file at path `\"../input/fatal-police-shootings-in-the-us/PoliceKillingsUS.csv\"`.  \n",
    "\n",
    "Figure out what the correct encoding should be and read in the file to a DataFrame `police_killings`."
   ]
  },
  {
   "cell_type": "code",
   "execution_count": 6,
   "id": "b3fb78fb",
   "metadata": {
    "execution": {
     "iopub.execute_input": "2022-04-15T18:58:42.177231Z",
     "iopub.status.busy": "2022-04-15T18:58:42.176525Z",
     "iopub.status.idle": "2022-04-15T18:58:42.203305Z",
     "shell.execute_reply": "2022-04-15T18:58:42.202247Z"
    },
    "papermill": {
     "duration": 0.049265,
     "end_time": "2022-04-15T18:58:42.205455",
     "exception": false,
     "start_time": "2022-04-15T18:58:42.156190",
     "status": "completed"
    },
    "tags": []
   },
   "outputs": [
    {
     "data": {
      "application/javascript": [
       "parent.postMessage({\"jupyterEvent\": \"custom.exercise_interaction\", \"data\": {\"outcomeType\": 1, \"valueTowardsCompletion\": 0.3333333333333333, \"interactionType\": 1, \"questionType\": 1, \"questionId\": \"2_ReadIn\", \"learnToolsVersion\": \"0.3.4\", \"failureMessage\": \"\", \"exceptionClass\": \"\", \"trace\": \"\"}}, \"*\")"
      ],
      "text/plain": [
       "<IPython.core.display.Javascript object>"
      ]
     },
     "metadata": {},
     "output_type": "display_data"
    },
    {
     "data": {
      "text/markdown": [
       "<span style=\"color:#33cc33\">Correct</span>"
      ],
      "text/plain": [
       "Correct"
      ]
     },
     "metadata": {},
     "output_type": "display_data"
    }
   ],
   "source": [
    "# TODO: Load in the DataFrame correctly.\n",
    "police_killings = pd.read_csv(\"../input/fatal-police-shootings-in-the-us/PoliceKillingsUS.csv\", encoding='Windows-1252')\n",
    "# Check your answer\n",
    "q2.check()"
   ]
  },
  {
   "cell_type": "markdown",
   "id": "44af06c3",
   "metadata": {
    "papermill": {
     "duration": 0.020447,
     "end_time": "2022-04-15T18:58:42.246357",
     "exception": false,
     "start_time": "2022-04-15T18:58:42.225910",
     "status": "completed"
    },
    "tags": []
   },
   "source": [
    "Feel free to use any additional code cells for supplemental work.  To get credit for finishing this question, you'll need to run `q2.check()` and get a result of **Correct**."
   ]
  },
  {
   "cell_type": "code",
   "execution_count": 7,
   "id": "0ea065a4",
   "metadata": {
    "execution": {
     "iopub.execute_input": "2022-04-15T18:58:42.291942Z",
     "iopub.status.busy": "2022-04-15T18:58:42.291633Z",
     "iopub.status.idle": "2022-04-15T18:58:42.296212Z",
     "shell.execute_reply": "2022-04-15T18:58:42.295163Z"
    },
    "papermill": {
     "duration": 0.030962,
     "end_time": "2022-04-15T18:58:42.298327",
     "exception": false,
     "start_time": "2022-04-15T18:58:42.267365",
     "status": "completed"
    },
    "tags": []
   },
   "outputs": [],
   "source": [
    "# (Optional) Use this code cell for any additional work."
   ]
  },
  {
   "cell_type": "code",
   "execution_count": 8,
   "id": "b1ee0f8f",
   "metadata": {
    "execution": {
     "iopub.execute_input": "2022-04-15T18:58:42.341905Z",
     "iopub.status.busy": "2022-04-15T18:58:42.341594Z",
     "iopub.status.idle": "2022-04-15T18:58:42.345908Z",
     "shell.execute_reply": "2022-04-15T18:58:42.344828Z"
    },
    "papermill": {
     "duration": 0.028931,
     "end_time": "2022-04-15T18:58:42.348205",
     "exception": false,
     "start_time": "2022-04-15T18:58:42.319274",
     "status": "completed"
    },
    "tags": []
   },
   "outputs": [],
   "source": [
    "# Lines below will give you a hint or solution code\n",
    "#q2.hint()\n",
    "#q2.solution()"
   ]
  },
  {
   "cell_type": "markdown",
   "id": "cfa5e17f",
   "metadata": {
    "papermill": {
     "duration": 0.020193,
     "end_time": "2022-04-15T18:58:42.389120",
     "exception": false,
     "start_time": "2022-04-15T18:58:42.368927",
     "status": "completed"
    },
    "tags": []
   },
   "source": [
    "# 3) Saving your files with UTF-8 encoding\n",
    "\n",
    "Save a version of the police killings dataset to CSV with UTF-8 encoding.  Your answer will be marked correct after saving this file.  \n",
    "\n",
    "Note: When using the `to_csv()` method, supply only the name of the file (e.g., `\"my_file.csv\"`).  This saves the file at the filepath `\"/kaggle/working/my_file.csv\"`."
   ]
  },
  {
   "cell_type": "code",
   "execution_count": 9,
   "id": "8dfcb1e2",
   "metadata": {
    "execution": {
     "iopub.execute_input": "2022-04-15T18:58:42.432276Z",
     "iopub.status.busy": "2022-04-15T18:58:42.431723Z",
     "iopub.status.idle": "2022-04-15T18:58:42.477975Z",
     "shell.execute_reply": "2022-04-15T18:58:42.476850Z"
    },
    "papermill": {
     "duration": 0.070519,
     "end_time": "2022-04-15T18:58:42.480323",
     "exception": false,
     "start_time": "2022-04-15T18:58:42.409804",
     "status": "completed"
    },
    "tags": []
   },
   "outputs": [
    {
     "data": {
      "application/javascript": [
       "parent.postMessage({\"jupyterEvent\": \"custom.exercise_interaction\", \"data\": {\"outcomeType\": 1, \"valueTowardsCompletion\": 0.3333333333333333, \"interactionType\": 1, \"questionType\": 2, \"questionId\": \"3_SaveCSV\", \"learnToolsVersion\": \"0.3.4\", \"failureMessage\": \"\", \"exceptionClass\": \"\", \"trace\": \"\"}}, \"*\")"
      ],
      "text/plain": [
       "<IPython.core.display.Javascript object>"
      ]
     },
     "metadata": {},
     "output_type": "display_data"
    },
    {
     "data": {
      "text/markdown": [
       "<span style=\"color:#33cc33\">Correct</span>"
      ],
      "text/plain": [
       "Correct"
      ]
     },
     "metadata": {},
     "output_type": "display_data"
    }
   ],
   "source": [
    "# TODO: Save the police killings dataset to CSV\n",
    "\n",
    "police_killings.to_csv(\"my_file.csv\")\n",
    "\n",
    "# Check your answer\n",
    "q3.check()"
   ]
  },
  {
   "cell_type": "code",
   "execution_count": 10,
   "id": "4e91ed1e",
   "metadata": {
    "execution": {
     "iopub.execute_input": "2022-04-15T18:58:42.526779Z",
     "iopub.status.busy": "2022-04-15T18:58:42.526431Z",
     "iopub.status.idle": "2022-04-15T18:58:42.530440Z",
     "shell.execute_reply": "2022-04-15T18:58:42.529673Z"
    },
    "papermill": {
     "duration": 0.029824,
     "end_time": "2022-04-15T18:58:42.532558",
     "exception": false,
     "start_time": "2022-04-15T18:58:42.502734",
     "status": "completed"
    },
    "tags": []
   },
   "outputs": [],
   "source": [
    "# Lines below will give you a hint or solution code\n",
    "#q3.hint()\n",
    "#q3.solution()"
   ]
  },
  {
   "cell_type": "markdown",
   "id": "abc6d2f8",
   "metadata": {
    "papermill": {
     "duration": 0.021344,
     "end_time": "2022-04-15T18:58:42.575528",
     "exception": false,
     "start_time": "2022-04-15T18:58:42.554184",
     "status": "completed"
    },
    "tags": []
   },
   "source": [
    "# (Optional) More practice\n",
    "\n",
    "Check out [this dataset of files in different character encodings](https://www.kaggle.com/rtatman/character-encoding-examples). Can you read in all the files with their original encodings and them save them out as UTF-8 files?\n",
    "\n",
    "If you have a file that's in UTF-8 but has just a couple of weird-looking characters in it, you can try out the [ftfy module](https://ftfy.readthedocs.io/en/latest/#) and see if it helps. \n",
    "\n",
    "# Keep going\n",
    "\n",
    "In the final lesson, learn how to [**clean up inconsistent text entries**](https://www.kaggle.com/alexisbcook/inconsistent-data-entry) in your dataset."
   ]
  },
  {
   "cell_type": "markdown",
   "id": "94c60ad0",
   "metadata": {
    "papermill": {
     "duration": 0.02174,
     "end_time": "2022-04-15T18:58:42.618789",
     "exception": false,
     "start_time": "2022-04-15T18:58:42.597049",
     "status": "completed"
    },
    "tags": []
   },
   "source": [
    "---\n",
    "\n",
    "\n",
    "\n",
    "\n",
    "*Have questions or comments? Visit the [course discussion forum](https://www.kaggle.com/learn/data-cleaning/discussion) to chat with other learners.*"
   ]
  }
 ],
 "metadata": {
  "kernelspec": {
   "display_name": "Python 3",
   "language": "python",
   "name": "python3"
  },
  "language_info": {
   "codemirror_mode": {
    "name": "ipython",
    "version": 3
   },
   "file_extension": ".py",
   "mimetype": "text/x-python",
   "name": "python",
   "nbconvert_exporter": "python",
   "pygments_lexer": "ipython3",
   "version": "3.7.12"
  },
  "papermill": {
   "default_parameters": {},
   "duration": 11.915333,
   "end_time": "2022-04-15T18:58:43.261164",
   "environment_variables": {},
   "exception": null,
   "input_path": "__notebook__.ipynb",
   "output_path": "__notebook__.ipynb",
   "parameters": {},
   "start_time": "2022-04-15T18:58:31.345831",
   "version": "2.3.4"
  }
 },
 "nbformat": 4,
 "nbformat_minor": 5
}
